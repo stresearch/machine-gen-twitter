{
 "cells": [
  {
   "cell_type": "code",
   "execution_count": 25,
   "id": "efb9f67f-8609-4765-ac08-8f9311a5ac7d",
   "metadata": {},
   "outputs": [],
   "source": [
    "import pandas as pd\n",
    "import re\n",
    "import numpy as np"
   ]
  },
  {
   "cell_type": "markdown",
   "id": "2e3027d7-6866-41f6-8f41-3e9bc8e72a09",
   "metadata": {},
   "source": [
    "##  clean up tweets"
   ]
  },
  {
   "cell_type": "code",
   "execution_count": 94,
   "id": "227e7a5b-500b-4340-a54f-01fb5c092075",
   "metadata": {},
   "outputs": [],
   "source": [
    "def clean_tweet(tweet, allow_new_lines = False):\n",
    "    tweet = tweet.replace('&amp;', '&')\n",
    "    tweet = tweet.replace('&lt;', '<')\n",
    "    tweet = tweet.replace('&gt;', '>')\n",
    "    bad_start = ['http:', 'https:']\n",
    "    for w in bad_start:\n",
    "        tweet = re.sub(f\" {w}\\\\S+\", \"\", tweet)      # removes white space before url\n",
    "        tweet = re.sub(f\"{w}\\\\S+ \", \"\", tweet)      # in case a tweet starts with a url\n",
    "        tweet = re.sub(f\"\\n{w}\\\\S+ \", \"\", tweet)    # in case the url is on a new line\n",
    "        tweet = re.sub(f\"\\n{w}\\\\S+\", \"\", tweet)     # in case the url is alone on a new line\n",
    "        tweet = re.sub(f\"{w}\\\\S+\", \"\", tweet)       # any other case?\n",
    "    tweet = re.sub(' +', ' ', tweet)                # replace multiple spaces with one space\n",
    "    if not allow_new_lines:                         # TODO: predictions seem better without new lines\n",
    "        tweet = ' '.join(tweet.split(\"\\n\"))\n",
    "    return tweet.strip()\n",
    "\n",
    "\n",
    "def drop_mentions(tweet):\n",
    "    words = tweet.split(\" \")\n",
    "    return \" \".join([w for w in words if not w.startswith(\"@\")]).strip()\n",
    "\n",
    "def get_length(tweet):\n",
    "    return len(tweet.split(\" \"))\n",
    "\n",
    "def boring_tweet(tweet, min_non_boring_words = 5):\n",
    "    boring_stuff = ['http', '@', '#']\n",
    "    not_boring_words = len([None for w in tweet.split() if all(bs not in w.lower() for bs in boring_stuff)])\n",
    "    return not_boring_words < min_non_boring_words"
   ]
  },
  {
   "cell_type": "markdown",
   "id": "6768a8d1-1a53-4007-99d8-e547f8fcf169",
   "metadata": {},
   "source": [
    "## ancil data"
   ]
  },
  {
   "cell_type": "code",
   "execution_count": 23,
   "id": "4ae2188b-fa49-478f-8b7c-46e938c249d2",
   "metadata": {},
   "outputs": [
    {
     "name": "stderr",
     "output_type": "stream",
     "text": [
      "/home/kirill.trapeznikov/miniconda3/envs/semafor_nlg/lib/python3.8/site-packages/IPython/core/interactiveshell.py:3441: DtypeWarning: Columns (10) have mixed types.Specify dtype option on import or set low_memory=False.\n",
      "  exec(code_obj, self.user_global_ns, self.user_ns)\n"
     ]
    },
    {
     "name": "stdout",
     "output_type": "stream",
     "text": [
      "(16897, 42)\n",
      "(12600, 45)\n"
     ]
    }
   ],
   "source": [
    "data = pd.read_csv(\"final_challenge_data.csv\")\n",
    "print(data.shape)\n",
    "data[\"text_cleaned_2\"] = data.text.apply(clean_tweet)\n",
    "data[\"words\"] = data.text_cleaned_2.apply(lambda w: len(w.split(\" \")))\n",
    "data[\"boring\"] = data.text_cleaned_2.apply(boring_tweet)\n",
    "keep = (data.words>=10) & (~data.boring)\n",
    "data = data.loc[keep]\n",
    "print(data.shape)\n"
   ]
  },
  {
   "cell_type": "code",
   "execution_count": 22,
   "id": "f0d7adbb-0257-4039-b4ac-f747515b3e26",
   "metadata": {},
   "outputs": [
    {
     "data": {
      "text/plain": [
       "(0.7632715866721903, 0.13351482511688464)"
      ]
     },
     "execution_count": 22,
     "metadata": {},
     "output_type": "execute_result"
    }
   ],
   "source": [
    "(data.words>=10).mean(), data.boring.mean()"
   ]
  },
  {
   "cell_type": "code",
   "execution_count": 47,
   "id": "1aeda344-96eb-4836-95ab-c014fd85a74b",
   "metadata": {},
   "outputs": [],
   "source": [
    "train_mask = np.random.rand(len(data))<.9\n",
    "test_mask = ~train_mask"
   ]
  },
  {
   "cell_type": "code",
   "execution_count": 48,
   "id": "91eb25d8-7b54-478a-a7a0-df787b77e8fa",
   "metadata": {},
   "outputs": [],
   "source": [
    "data.loc[train_mask,\"text_cleaned_2\"].to_csv(\"temp_train.csv\", index = False)\n",
    "data.loc[test_mask,\"text_cleaned_2\"].to_csv(\"temp_test.csv\", index = False)\n",
    "\n"
   ]
  },
  {
   "cell_type": "markdown",
   "id": "a2fe1952-6aa3-4432-a85b-26ad0f979c09",
   "metadata": {},
   "source": [
    "### make features"
   ]
  },
  {
   "cell_type": "code",
   "execution_count": 76,
   "id": "0f8bcb76-3b3f-479d-9198-85b2f4ffdaf3",
   "metadata": {},
   "outputs": [],
   "source": [
    "data_test = pd.read_csv(\"temp_test.csv\")"
   ]
  },
  {
   "cell_type": "code",
   "execution_count": 117,
   "id": "b7b7bca1-794d-4990-85d5-9b3552e8344e",
   "metadata": {},
   "outputs": [],
   "source": [
    "from transformers import AutoModelForCausalLM, AutoTokenizer\n"
   ]
  },
  {
   "cell_type": "code",
   "execution_count": 2,
   "id": "e4b1d7e5-2621-4caa-b051-765aa3075c74",
   "metadata": {},
   "outputs": [],
   "source": [
    "model_name = \"gpt2-medium\""
   ]
  },
  {
   "cell_type": "code",
   "execution_count": 3,
   "id": "290d5728-5086-40fd-b3cd-1da4398d667c",
   "metadata": {},
   "outputs": [],
   "source": [
    "tokenizer = AutoTokenizer.from_pretrained(model_name)\n",
    "tokenizer.pad_token = tokenizer.eos_token "
   ]
  },
  {
   "cell_type": "code",
   "execution_count": 5,
   "id": "339a5f09-d69d-4f11-837a-6747587701f8",
   "metadata": {},
   "outputs": [
    {
     "data": {
      "text/plain": [
       "{'input_ids': [31373], 'attention_mask': [1]}"
      ]
     },
     "execution_count": 5,
     "metadata": {},
     "output_type": "execute_result"
    }
   ],
   "source": [
    "tokenizer(\"hello\",add_special_tokens=True)"
   ]
  },
  {
   "cell_type": "code",
   "execution_count": 86,
   "id": "6c61b415-a8c6-432a-b8bc-fdf9e2ce1532",
   "metadata": {},
   "outputs": [],
   "source": [
    "tokenizer = AutoTokenizer.from_pretrained(model_name)\n",
    "tokenizer.pad_token = tokenizer.eos_token \n",
    "data_test = pd.read_csv(\"temp_test.csv\")\n",
    "texts = tokenizer.eos_token +  tokenizer.eos_token.join(data_test.iloc[:,0]) +tokenizer.eos_token\n",
    "features = tokenizer(texts, stride = 4, max_length=128, return_overflowing_tokens=True, truncation=True, return_tensors=\"pt\", padding=True)"
   ]
  },
  {
   "cell_type": "code",
   "execution_count": 73,
   "id": "ff93c55c-6ac3-42b6-8120-b69436f3a554",
   "metadata": {},
   "outputs": [
    {
     "data": {
      "text/plain": [
       "50256"
      ]
     },
     "execution_count": 73,
     "metadata": {},
     "output_type": "execute_result"
    }
   ],
   "source": [
    "tokenizer.eos_token_id"
   ]
  },
  {
   "cell_type": "code",
   "execution_count": 87,
   "id": "8c0ebe64-0820-4a37-a482-51dbd786ff3b",
   "metadata": {},
   "outputs": [
    {
     "data": {
      "text/plain": [
       "torch.Size([491, 128])"
      ]
     },
     "execution_count": 87,
     "metadata": {},
     "output_type": "execute_result"
    }
   ],
   "source": [
    "features[\"input_ids\"].shape"
   ]
  },
  {
   "cell_type": "markdown",
   "id": "55e34f5a-7c4d-45ff-8de1-55b524f1e809",
   "metadata": {},
   "source": [
    "### download misinfo tweets"
   ]
  },
  {
   "cell_type": "code",
   "execution_count": 93,
   "id": "d7da4fb0-3826-40d9-bce6-ffa8e88a51d6",
   "metadata": {},
   "outputs": [
    {
     "data": {
      "text/html": [
       "<div>\n",
       "<style scoped>\n",
       "    .dataframe tbody tr th:only-of-type {\n",
       "        vertical-align: middle;\n",
       "    }\n",
       "\n",
       "    .dataframe tbody tr th {\n",
       "        vertical-align: top;\n",
       "    }\n",
       "\n",
       "    .dataframe thead th {\n",
       "        text-align: right;\n",
       "    }\n",
       "</style>\n",
       "<table border=\"1\" class=\"dataframe\">\n",
       "  <thead>\n",
       "    <tr style=\"text-align: right;\">\n",
       "      <th></th>\n",
       "      <th>id</th>\n",
       "      <th>is_misinfo</th>\n",
       "    </tr>\n",
       "  </thead>\n",
       "  <tbody>\n",
       "    <tr>\n",
       "      <th>0</th>\n",
       "      <td>1344795424855642112</td>\n",
       "      <td>0</td>\n",
       "    </tr>\n",
       "    <tr>\n",
       "      <th>1</th>\n",
       "      <td>1344794858133860353</td>\n",
       "      <td>0</td>\n",
       "    </tr>\n",
       "    <tr>\n",
       "      <th>2</th>\n",
       "      <td>1344794822691983360</td>\n",
       "      <td>0</td>\n",
       "    </tr>\n",
       "    <tr>\n",
       "      <th>3</th>\n",
       "      <td>1344794752819077123</td>\n",
       "      <td>1</td>\n",
       "    </tr>\n",
       "    <tr>\n",
       "      <th>4</th>\n",
       "      <td>1344792070507134977</td>\n",
       "      <td>0</td>\n",
       "    </tr>\n",
       "    <tr>\n",
       "      <th>...</th>\n",
       "      <td>...</td>\n",
       "      <td>...</td>\n",
       "    </tr>\n",
       "    <tr>\n",
       "      <th>15068</th>\n",
       "      <td>1413087751474397186</td>\n",
       "      <td>0</td>\n",
       "    </tr>\n",
       "    <tr>\n",
       "      <th>15069</th>\n",
       "      <td>1413087030578401283</td>\n",
       "      <td>0</td>\n",
       "    </tr>\n",
       "    <tr>\n",
       "      <th>15070</th>\n",
       "      <td>1413085793397186565</td>\n",
       "      <td>1</td>\n",
       "    </tr>\n",
       "    <tr>\n",
       "      <th>15071</th>\n",
       "      <td>1413085519710363648</td>\n",
       "      <td>0</td>\n",
       "    </tr>\n",
       "    <tr>\n",
       "      <th>15072</th>\n",
       "      <td>1413085365745774593</td>\n",
       "      <td>0</td>\n",
       "    </tr>\n",
       "  </tbody>\n",
       "</table>\n",
       "<p>15073 rows × 2 columns</p>\n",
       "</div>"
      ],
      "text/plain": [
       "                        id  is_misinfo\n",
       "0      1344795424855642112           0\n",
       "1      1344794858133860353           0\n",
       "2      1344794822691983360           0\n",
       "3      1344794752819077123           1\n",
       "4      1344792070507134977           0\n",
       "...                    ...         ...\n",
       "15068  1413087751474397186           0\n",
       "15069  1413087030578401283           0\n",
       "15070  1413085793397186565           1\n",
       "15071  1413085519710363648           0\n",
       "15072  1413085365745774593           0\n",
       "\n",
       "[15073 rows x 2 columns]"
      ]
     },
     "execution_count": 93,
     "metadata": {},
     "output_type": "execute_result"
    }
   ],
   "source": [
    "data_ids = pd.read_csv(\"VaxMisinfoData.csv\")\n",
    "data_ids"
   ]
  },
  {
   "cell_type": "code",
   "execution_count": 31,
   "id": "c0329101-0aca-412b-a2af-c849c98d10e4",
   "metadata": {},
   "outputs": [
    {
     "data": {
      "text/plain": [
       "0    9322\n",
       "1    5751\n",
       "Name: is_misinfo, dtype: int64"
      ]
     },
     "execution_count": 31,
     "metadata": {},
     "output_type": "execute_result"
    }
   ],
   "source": [
    "print(data.shape)\n",
    "data[\"text_cleaned_2\"] = data.text.apply(clean_tweet)\n",
    "data[\"words\"] = data.text_cleaned_2.apply(lambda w: len(w.split(\" \")))\n",
    "data[\"boring\"] = data.text_cleaned_2.apply(boring_tweet)\n",
    "keep = (data.words>=10) & (~data.boring)\n",
    "data = data.loc[keep]\n",
    "print(data.shape)\n",
    "\n"
   ]
  },
  {
   "cell_type": "markdown",
   "id": "5632ccd4-43f5-493c-997b-2be391249e9d",
   "metadata": {},
   "source": [
    "### download tweets"
   ]
  },
  {
   "cell_type": "code",
   "execution_count": 37,
   "id": "c24fd51a-6bc9-4f81-9f89-7670dbf6ed68",
   "metadata": {},
   "outputs": [],
   "source": [
    "CONSUMER_KEY=\"AUqvCh7D2XNvEC018izM039pt\"\n",
    "CONSUMER_SECRET=\"ipdhy74DGePlhIVjaDTtiHz2alGOMMuuyolIptbhaAzVLTO9yi\"\n",
    "ACCESS_TOKEN=\"71959189-iKh7iNjKHS5KbTnD77FRSdDf5DdGIt6ciKH9dxp41\"\n",
    "ACCESS_TOKEN_SECRET=\"DW7ZhRZYIqd0D8rbTvE2Y3yQv0jJ55ezivAY1yNebNLMv\""
   ]
  },
  {
   "cell_type": "code",
   "execution_count": 38,
   "id": "6ac9d120-f5e7-49b5-9ab5-cc1524769c41",
   "metadata": {},
   "outputs": [],
   "source": [
    "import tweepy\n",
    "\n",
    "CONSUMER_KEY=\"AUqvCh7D2XNvEC018izM039pt\"\n",
    "CONSUMER_SECRET=\"ipdhy74DGePlhIVjaDTtiHz2alGOMMuuyolIptbhaAzVLTO9yi\"\n",
    "ACCESS_TOKEN=\"71959189-iKh7iNjKHS5KbTnD77FRSdDf5DdGIt6ciKH9dxp41\"\n",
    "ACCESS_TOKEN_SECRET=\"DW7ZhRZYIqd0D8rbTvE2Y3yQv0jJ55ezivAY1yNebNLMv\"\n",
    "\n",
    "client = tweepy.Client(\n",
    "    consumer_key=CONSUMER_KEY,\n",
    "    consumer_secret=CONSUMER_SECRET,\n",
    "    access_token=ACCESS_TOKEN,\n",
    "    access_token_secret=ACCESS_TOKEN_SECRET\n",
    ")"
   ]
  },
  {
   "cell_type": "code",
   "execution_count": 82,
   "id": "72883c75-3817-461f-9c70-3b048d8784bb",
   "metadata": {},
   "outputs": [],
   "source": [
    "ids =data[\"id\"].astype(str).values"
   ]
  },
  {
   "cell_type": "code",
   "execution_count": 81,
   "id": "d4338790-5b96-41d2-b094-5e4d78fe071a",
   "metadata": {},
   "outputs": [],
   "source": [
    "import tqdm.auto as tqdm"
   ]
  },
  {
   "cell_type": "code",
   "execution_count": 86,
   "id": "7b092d8b-3003-47de-885f-27cec9185f85",
   "metadata": {},
   "outputs": [
    {
     "data": {
      "application/vnd.jupyter.widget-view+json": {
       "model_id": "a4d78962eb2c4a3ca0dd59c4e7d26b3b",
       "version_major": 2,
       "version_minor": 0
      },
      "text/plain": [
       "  0%|          | 0/151 [00:00<?, ?it/s]"
      ]
     },
     "metadata": {},
     "output_type": "display_data"
    }
   ],
   "source": [
    "batch_size = 100\n",
    "max_per_interval = 900\n",
    "data = []\n",
    "num_rs = 0\n",
    "for i in tqdm.trange(0,len(ids),batch_size):\n",
    "    batch_ids = \",\".join(ids[i:i+batch_size])\n",
    "    out = client.get_tweets(batch_ids, tweet_fields=\"context_annotations\", user_auth=True)\n",
    "    data.extend([dict(o) for o in out.data])\n",
    "    num_rs += 1\n",
    "    if num_rs > max_per_interval:\n",
    "        break\n",
    "    # break"
   ]
  },
  {
   "cell_type": "code",
   "execution_count": 87,
   "id": "1184f57f-49ee-4641-adeb-afd0f18109a1",
   "metadata": {},
   "outputs": [
    {
     "data": {
      "text/plain": [
       "12670"
      ]
     },
     "execution_count": 87,
     "metadata": {},
     "output_type": "execute_result"
    }
   ],
   "source": [
    "len(data)"
   ]
  },
  {
   "cell_type": "code",
   "execution_count": 89,
   "id": "1caad928-65ce-4153-9e41-42b1e9c72c97",
   "metadata": {},
   "outputs": [],
   "source": [
    "data_tweets = pd.DataFrame(data)"
   ]
  },
  {
   "cell_type": "code",
   "execution_count": 102,
   "id": "c0b35576-9f71-410b-9adf-f9f3ac0b68c3",
   "metadata": {},
   "outputs": [],
   "source": [
    "data_tweets.to_json(\"tweets_vaccine.jsonl\",orient=\"records\",lines=True)\n",
    "data_tweets.to_csv(\"tweets_vaccine.csv\", index=False)"
   ]
  },
  {
   "cell_type": "code",
   "execution_count": 97,
   "id": "acc02164-e729-466e-a76a-e5ede3671919",
   "metadata": {},
   "outputs": [
    {
     "data": {
      "text/plain": [
       "context_annotations    object\n",
       "id                      int64\n",
       "text                   object\n",
       "withheld               object\n",
       "dtype: object"
      ]
     },
     "execution_count": 97,
     "metadata": {},
     "output_type": "execute_result"
    }
   ],
   "source": [
    "data_tweets.dtypes"
   ]
  },
  {
   "cell_type": "code",
   "execution_count": 98,
   "id": "a3772987-6c70-4027-9cd5-28b8e4da7b4c",
   "metadata": {},
   "outputs": [],
   "source": [
    "data_tweets[\"is_misinfo\"] =  data_ids.set_index('id').loc[data_tweets['id'].values,\"is_misinfo\"].values"
   ]
  },
  {
   "cell_type": "code",
   "execution_count": 100,
   "id": "cc69b78a-728b-47ea-b481-976cefada60e",
   "metadata": {},
   "outputs": [
    {
     "data": {
      "text/plain": [
       "0    8277\n",
       "1    4393\n",
       "Name: is_misinfo, dtype: int64"
      ]
     },
     "execution_count": 100,
     "metadata": {},
     "output_type": "execute_result"
    }
   ],
   "source": [
    "data_tweets.is_misinfo.value_counts()"
   ]
  },
  {
   "cell_type": "markdown",
   "id": "f8783aaa-1b11-4d11-9b93-ad4f3ff43774",
   "metadata": {},
   "source": [
    "## make dataset for training "
   ]
  },
  {
   "cell_type": "code",
   "execution_count": 106,
   "id": "ebf6b771-faff-42ed-b488-b50767288fff",
   "metadata": {},
   "outputs": [],
   "source": [
    "data_vaccine = pd.read_csv(\"tweets_vaccine.csv\")"
   ]
  },
  {
   "cell_type": "code",
   "execution_count": 108,
   "id": "ae4f5935-7559-4f11-80e1-a56edbf5fe81",
   "metadata": {},
   "outputs": [],
   "source": [
    "data_vaccine[\"text\"] = data_vaccine[\"text\"].apply(clean_tweet)"
   ]
  },
  {
   "cell_type": "code",
   "execution_count": 111,
   "id": "0c0d1991-a032-423f-95e6-4aff084f4498",
   "metadata": {},
   "outputs": [],
   "source": [
    "prompts = [\"pro vaccine: \", \"anti vaccine: \"]"
   ]
  },
  {
   "cell_type": "code",
   "execution_count": 114,
   "id": "606858ee-0c23-405e-84a1-09b389b47254",
   "metadata": {},
   "outputs": [],
   "source": [
    "data_vaccine[\"text_with_prompt\"] = [prompts[t.is_misinfo] + t.text for i,t in data_vaccine.T.items()]"
   ]
  },
  {
   "cell_type": "code",
   "execution_count": 116,
   "id": "59485f20-b263-4873-b487-3619a0806120",
   "metadata": {},
   "outputs": [],
   "source": [
    "train_mask = np.random.rand(len(data_vaccine))<.9\n",
    "test_mask = ~train_mask\n",
    "\n",
    "data_vaccine.loc[train_mask,[\"text_with_prompt\", \"text\",\"is_misinfo\"]].to_csv(\"vaccine_train.csv\", index = False)\n",
    "data_vaccine.loc[test_mask,[\"text_with_prompt\", \"text\",\"is_misinfo\"]].to_csv(\"vaccine_test.csv\", index = False)\n",
    "\n"
   ]
  },
  {
   "cell_type": "markdown",
   "id": "5eab2ec4-8e56-470f-a5c0-5a934c092f26",
   "metadata": {},
   "source": [
    "### download more data"
   ]
  },
  {
   "cell_type": "code",
   "execution_count": 1,
   "id": "e7812689-bc2d-4201-af37-95e6c766ccee",
   "metadata": {},
   "outputs": [],
   "source": [
    "# def download_file(file_name):\n",
    "import tweepy\n",
    "import tqdm.auto as tqdm\n",
    "import pandas as pd\n",
    "import time\n"
   ]
  },
  {
   "cell_type": "code",
   "execution_count": 2,
   "id": "99a905d9-611e-4aea-8504-0ad8259f4123",
   "metadata": {},
   "outputs": [
    {
     "data": {
      "text/plain": [
       "1649251528.6180978"
      ]
     },
     "execution_count": 2,
     "metadata": {},
     "output_type": "execute_result"
    }
   ],
   "source": [
    "time.time()"
   ]
  },
  {
   "cell_type": "code",
   "execution_count": 148,
   "id": "e4345c2f-0f56-4f16-a61f-d030ce6ff1d8",
   "metadata": {},
   "outputs": [
    {
     "data": {
      "text/plain": [
       "(472092, 1)"
      ]
     },
     "execution_count": 148,
     "metadata": {},
     "output_type": "execute_result"
    }
   ],
   "source": [
    "pd.read_csv(\"ANTiVax/VaccineTweets/Apr_wk1.csv\").shape"
   ]
  },
  {
   "cell_type": "code",
   "execution_count": 4,
   "id": "b84547be-f16a-4936-9710-23f8607f7559",
   "metadata": {},
   "outputs": [
    {
     "data": {
      "application/vnd.jupyter.widget-view+json": {
       "model_id": "4b763a5f02834fa98be73990827867f5",
       "version_major": 2,
       "version_minor": 0
      },
      "text/plain": [
       "  0%|          | 0/6528 [00:00<?, ?it/s]"
      ]
     },
     "metadata": {},
     "output_type": "display_data"
    },
    {
     "name": "stdout",
     "output_type": "stream",
     "text": [
      "sleeping for 417.63304591178894\n",
      "sleeping for 419.9492437839508\n",
      "sleeping for 404.5091998577118\n",
      "sleeping for 387.8233082294464\n",
      "sleeping for 394.14096426963806\n",
      "sleeping for 388.0395293235779\n",
      "sleeping for 395.15634298324585\n"
     ]
    }
   ],
   "source": [
    "\n",
    "\n",
    "def download_file(file_name=None):\n",
    "    ids =pd.read_csv(file_name)[\"id\"].astype(str).values\n",
    "    \n",
    "    \n",
    "    CONSUMER_KEY=\"AUqvCh7D2XNvEC018izM039pt\"\n",
    "    CONSUMER_SECRET=\"ipdhy74DGePlhIVjaDTtiHz2alGOMMuuyolIptbhaAzVLTO9yi\"\n",
    "    ACCESS_TOKEN=\"71959189-iKh7iNjKHS5KbTnD77FRSdDf5DdGIt6ciKH9dxp41\"\n",
    "    ACCESS_TOKEN_SECRET=\"DW7ZhRZYIqd0D8rbTvE2Y3yQv0jJ55ezivAY1yNebNLMv\"\n",
    "\n",
    "    client = tweepy.Client(\n",
    "        consumer_key=CONSUMER_KEY,\n",
    "        consumer_secret=CONSUMER_SECRET,\n",
    "        access_token=ACCESS_TOKEN,\n",
    "        access_token_secret=ACCESS_TOKEN_SECRET\n",
    "    )\n",
    "    \n",
    "    \n",
    "    batch_size = 100\n",
    "    max_per_interval = 890\n",
    "    max_time_per_interval_seconds = 16*60\n",
    "    data = []\n",
    "    num_requests = 0\n",
    "    start_time = time.time()\n",
    "    \n",
    "    for i in tqdm.trange(0,len(ids),batch_size):\n",
    "        \n",
    "        \n",
    "        \n",
    "        if num_requests == max_per_interval:\n",
    "            elapsed_time = time.time() - start_time\n",
    "            sleep_time = max_time_per_interval_seconds - elapsed_time\n",
    "            if sleep_time>0:\n",
    "                print(f\"sleeping for {elapsed_time}\")\n",
    "                time.sleep(sleep_time)\n",
    "            start_time = time.time()\n",
    "            num_requests = 0\n",
    "        \n",
    "        \n",
    "        batch_ids = \",\".join(ids[i:i+batch_size])\n",
    "        out = client.get_tweets(batch_ids, tweet_fields=\"context_annotations\", user_auth=True)\n",
    "        data.extend([dict(o) for o in out.data])\n",
    "        num_requests += 1\n",
    "        \n",
    "    pd.DataFrame(data).to_json(f\"{file_name}.jsonl\",orient=\"records\",lines=True)\n",
    "\n",
    "        \n",
    "\n",
    "download_file(\"ANTiVax/VaccineTweets/Dec_wk3.csv\")"
   ]
  },
  {
   "cell_type": "markdown",
   "id": "cd8f6d4c-5b9c-4b94-b4ce-d48692b29a8b",
   "metadata": {},
   "source": [
    "### antivax dataset\n",
    "\n"
   ]
  },
  {
   "cell_type": "code",
   "execution_count": 31,
   "id": "183c2f65-5ef7-4189-8243-5f386c4dede6",
   "metadata": {},
   "outputs": [
    {
     "data": {
      "application/vnd.jupyter.widget-view+json": {
       "model_id": "5fe733df0e3149bdb6f7ad389e6e0eea",
       "version_major": 2,
       "version_minor": 0
      },
      "text/plain": [
       "  0%|          | 0/9428 [00:00<?, ?it/s]"
      ]
     },
     "metadata": {},
     "output_type": "display_data"
    }
   ],
   "source": [
    "import glob\n",
    "files = glob.glob(\"avax-tweets-dataset/streaming-tweetids/*/*.txt\")\n",
    "target = 500e3\n",
    "sample_per_file = int(target/len(files))\n",
    "ids = []\n",
    "for f in tqdm.tqdm(files):\n",
    "    try:\n",
    "        ids.extend(pd.read_csv(f,header=None).sample(sample_per_file).iloc[:,0].values.tolist())\n",
    "    except:\n",
    "        continue"
   ]
  },
  {
   "cell_type": "code",
   "execution_count": 65,
   "id": "c74a59c3-2b4a-4961-8292-a5900092f739",
   "metadata": {},
   "outputs": [],
   "source": [
    "temp = pd.DataFrame(dict(id = ids))#.to_csv(\"avax-tweets-dataset_sample500k.csv\", index = False)\n",
    "temp = temp.loc[temp[\"id\"].astype(str).str.len()==19]\n",
    "temp.to_csv(\"avax-tweets-dataset_sample500k.csv\", index = False)"
   ]
  },
  {
   "cell_type": "code",
   "execution_count": 66,
   "id": "22b73796-ecd6-4646-97c5-9c03cf62a8cd",
   "metadata": {},
   "outputs": [
    {
     "data": {
      "application/vnd.jupyter.widget-view+json": {
       "model_id": "64ada7b8cde14ea79e73274bea90646c",
       "version_major": 2,
       "version_minor": 0
      },
      "text/plain": [
       "  0%|          | 0/4995 [00:00<?, ?it/s]"
      ]
     },
     "metadata": {},
     "output_type": "display_data"
    },
    {
     "name": "stdout",
     "output_type": "stream",
     "text": [
      "sleeping for 265.8859214782715\n",
      "sleeping for 389.2414300441742\n",
      "sleeping for 397.12471747398376\n",
      "sleeping for 413.21429109573364\n",
      "sleeping for 400.4697802066803\n"
     ]
    }
   ],
   "source": [
    "download_file(\"avax-tweets-dataset_sample500k.csv\")"
   ]
  },
  {
   "cell_type": "code",
   "execution_count": 85,
   "id": "6ba760dd-7ce8-48f4-8838-8cb6cc769cc1",
   "metadata": {},
   "outputs": [
    {
     "data": {
      "text/plain": [
       "173858"
      ]
     },
     "execution_count": 85,
     "metadata": {},
     "output_type": "execute_result"
    }
   ],
   "source": [
    "temp = pd.read_json(\"avax-tweets-dataset_sample500k.csv.jsonl\",lines = True)\n",
    "text = temp.text.str.replace(\"RT \",\"\").drop_duplicates()\n",
    "(~text.apply(boring_tweet)).sum()"
   ]
  },
  {
   "cell_type": "code",
   "execution_count": 93,
   "id": "c6d07357-82dc-4674-badb-87dfee11a7d1",
   "metadata": {},
   "outputs": [
    {
     "data": {
      "text/plain": [
       "count    198400.000000\n",
       "mean         21.008266\n",
       "std          13.240846\n",
       "min           1.000000\n",
       "25%          12.000000\n",
       "50%          19.000000\n",
       "75%          28.000000\n",
       "max         142.000000\n",
       "Name: text, dtype: float64"
      ]
     },
     "execution_count": 93,
     "metadata": {},
     "output_type": "execute_result"
    }
   ],
   "source": [
    "\n",
    "\n",
    "text = text.apply(drop_mentions)\n",
    "text.apply(get_length).describe()"
   ]
  },
  {
   "cell_type": "markdown",
   "id": "49aa70c7-1bdf-4341-ae82-c108f25137f4",
   "metadata": {},
   "source": [
    "### anti climate data"
   ]
  },
  {
   "cell_type": "code",
   "execution_count": 26,
   "id": "50e8a2cc-72bf-44a6-ab3f-2d1136e8cf45",
   "metadata": {},
   "outputs": [],
   "source": [
    "temp = pd.read_csv(\"climate_id.txt.03\",header=None).iloc[:,0].sample(int(400e3)).values.tolist()\n",
    "pd.DataFrame(dict(id = temp)).to_csv(\"climate-dataset_sample400k.csv\", index = False)"
   ]
  },
  {
   "cell_type": "code",
   "execution_count": 27,
   "id": "d2f00feb-e4bb-4957-897b-51c5aeeca306",
   "metadata": {},
   "outputs": [
    {
     "data": {
      "application/vnd.jupyter.widget-view+json": {
       "model_id": "f2b35209bf9e4cfa849cda0d32ae675f",
       "version_major": 2,
       "version_minor": 0
      },
      "text/plain": [
       "  0%|          | 0/4000 [00:00<?, ?it/s]"
      ]
     },
     "metadata": {},
     "output_type": "display_data"
    },
    {
     "name": "stdout",
     "output_type": "stream",
     "text": [
      "sleeping for 427.3742322921753\n",
      "sleeping for 423.9734694957733\n",
      "sleeping for 434.57163286209106\n",
      "sleeping for 501.6383218765259\n"
     ]
    }
   ],
   "source": [
    "download_file(\"climate-dataset_sample400k.csv\")"
   ]
  },
  {
   "cell_type": "code",
   "execution_count": 68,
   "id": "8c027d03-0014-4078-85e5-9cd8df0ea8e6",
   "metadata": {},
   "outputs": [],
   "source": []
  },
  {
   "cell_type": "code",
   "execution_count": 81,
   "id": "5a3b79e0-3a90-4c76-a84a-ec2e00525d01",
   "metadata": {},
   "outputs": [
    {
     "data": {
      "text/plain": [
       "130587"
      ]
     },
     "execution_count": 81,
     "metadata": {},
     "output_type": "execute_result"
    }
   ],
   "source": [
    "temp = pd.read_json(\"climate-dataset_sample400k.csv.jsonl\",lines = True)\n",
    "text = temp.text.str.replace(\"RT \",\"\").drop_duplicates()\n",
    "(~text.apply(boring_tweet)).sum()"
   ]
  },
  {
   "cell_type": "code",
   "execution_count": 71,
   "id": "f621d7a5-321c-426d-aaf1-4d7372f80627",
   "metadata": {},
   "outputs": [
    {
     "data": {
      "text/plain": [
       "['#climatechangehoax',\n",
       " '#climatedeniers',\n",
       " '#climatechangeisfalse',\n",
       " '#globalwarminghoax',\n",
       " '#climatechangenotreal',\n",
       " 'hoax']"
      ]
     },
     "execution_count": 71,
     "metadata": {},
     "output_type": "execute_result"
    }
   ],
   "source": [
    "#### only keep anti climate stuff\n",
    "keywords = \"#climatechangehoax,#climatedeniers,#climatechangeisfalse,#globalwarminghoax,#climatechangenotreal,hoax\".split(\",\")\n",
    "keywords"
   ]
  },
  {
   "cell_type": "code",
   "execution_count": 83,
   "id": "cc38e76d-e02b-48a1-b50f-3b8ff2bd7b1e",
   "metadata": {},
   "outputs": [
    {
     "name": "stdout",
     "output_type": "stream",
     "text": [
      "#climatechangehoax 47\n",
      "#climatedeniers 34\n",
      "#climatechangeisfalse 0\n",
      "#globalwarminghoax 18\n",
      "#climatechangenotreal 0\n",
      "hoax 1056\n"
     ]
    }
   ],
   "source": [
    "for w in keywords:\n",
    "    print(w,text.str.contains(w,case = False,regex=False).sum())"
   ]
  },
  {
   "cell_type": "code",
   "execution_count": 77,
   "id": "5c91d8b2-6d9d-4257-b2f8-642197fa2797",
   "metadata": {},
   "outputs": [
    {
     "data": {
      "text/plain": [
       "153841    @SkyNewsBreak Wish governments were as quick t...\n",
       "208795    @MhdiLmn: Sur notre planète, 100 entreprises p...\n",
       "152857    @artbylynettag: Tony Abbott seriously needs to...\n",
       "30580     @Tpopularfront: Last time I looked, Jeremy Cor...\n",
       "92265     @GuardianHeather: NEW - Jeremy Corbyn has *dec...\n",
       "108439    From @rollingstone - — California Gov. Jerry B...\n",
       "12140     @CECHR_UoD: Hurricanes\\nA perfect storm of cha...\n",
       "61732     The US is a hotbed of climate science denial w...\n",
       "220690    @PennsylvaniaDEP: .@GovernorTomWolf announces ...\n",
       "32763     Folks living in the West SGV, East LA, and NEL...\n",
       "Name: text, dtype: object"
      ]
     },
     "execution_count": 77,
     "metadata": {},
     "output_type": "execute_result"
    }
   ],
   "source": [
    "text.sample(10)"
   ]
  },
  {
   "cell_type": "code",
   "execution_count": 1,
   "id": "eba69aae-2348-47c8-85b9-a883b5222763",
   "metadata": {},
   "outputs": [],
   "source": [
    "### save just the tweet ids"
   ]
  },
  {
   "cell_type": "code",
   "execution_count": 2,
   "id": "4341b8b5-0631-418c-9e86-982fa4a5f9a0",
   "metadata": {},
   "outputs": [],
   "source": [
    "import pandas as pd"
   ]
  },
  {
   "cell_type": "code",
   "execution_count": 8,
   "id": "61c818a4-fb58-474f-8112-f010a092d1d6",
   "metadata": {},
   "outputs": [
    {
     "name": "stderr",
     "output_type": "stream",
     "text": [
      "/home/kirill.trapeznikov/miniconda3/envs/semafor_nlg/lib/python3.8/site-packages/IPython/core/interactiveshell.py:3441: DtypeWarning: Columns (7,19,22,23,27) have mixed types.Specify dtype option on import or set low_memory=False.\n",
      "  exec(code_obj, self.user_global_ns, self.user_ns)\n"
     ]
    }
   ],
   "source": [
    "pd.read_csv(\"datasets/graphika.csv\").loc[:,[\"id\"]].to_csv(\"datasets/covid_ids.csv\", index = False)"
   ]
  }
 ],
 "metadata": {
  "kernelspec": {
   "display_name": "semafor_nlg",
   "language": "python",
   "name": "semafor_nlg"
  },
  "language_info": {
   "codemirror_mode": {
    "name": "ipython",
    "version": 3
   },
   "file_extension": ".py",
   "mimetype": "text/x-python",
   "name": "python",
   "nbconvert_exporter": "python",
   "pygments_lexer": "ipython3",
   "version": "3.8.11"
  }
 },
 "nbformat": 4,
 "nbformat_minor": 5
}
