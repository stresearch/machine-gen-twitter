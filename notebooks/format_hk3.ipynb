{
 "cells": [
  {
   "cell_type": "code",
   "execution_count": 1,
   "id": "29c59bea-2cc8-46ce-b3ae-c03131b2bef3",
   "metadata": {},
   "outputs": [],
   "source": [
    "import pandas as pd\n"
   ]
  },
  {
   "cell_type": "code",
   "execution_count": 14,
   "id": "f3ac756c-d450-4603-8442-bac0ee1e1bac",
   "metadata": {},
   "outputs": [],
   "source": [
    "data = pd.read_json(\"/proj/semafor/ancil/projects/hk3/notebooks/tmp_cp4_files/data_real_1_notmixed_gencovid.json\", orient=\"records\")"
   ]
  },
  {
   "cell_type": "code",
   "execution_count": 15,
   "id": "ce8da48a-41f9-4c07-af3c-03d36f03f46d",
   "metadata": {},
   "outputs": [
    {
     "data": {
      "text/plain": [
       "(3000, 1)"
      ]
     },
     "execution_count": 15,
     "metadata": {},
     "output_type": "execute_result"
    }
   ],
   "source": [
    "data"
   ]
  },
  {
   "cell_type": "code",
   "execution_count": 1,
   "id": "2cc33b13-35a5-418d-83d5-a01d8fb399a3",
   "metadata": {},
   "outputs": [],
   "source": [
    "import pandas as pd"
   ]
  },
  {
   "cell_type": "code",
   "execution_count": 4,
   "id": "fdb1764a-10bf-4b5c-8208-b5e1940763c5",
   "metadata": {},
   "outputs": [],
   "source": [
    "data = pd.read_json(\"/proj/semafor/hackathons/hk3/cp4/test_climate_human-EleutherAI-gpt-neo-1.3B_25.json\", orient = \"records\")"
   ]
  },
  {
   "cell_type": "code",
   "execution_count": 7,
   "id": "4b5b5954-b1a9-41ca-abf8-c9d5fcd39cd7",
   "metadata": {},
   "outputs": [
    {
     "data": {
      "text/plain": [
       "10    85\n",
       "20    78\n",
       "5     77\n",
       "25    10\n",
       "Name: tweets, dtype: int64"
      ]
     },
     "execution_count": 7,
     "metadata": {},
     "output_type": "execute_result"
    }
   ],
   "source": [
    "data.tweets.apply(len).value_counts()"
   ]
  },
  {
   "cell_type": "code",
   "execution_count": 8,
   "id": "81ab4785-9cd1-45d1-88aa-4526399de052",
   "metadata": {},
   "outputs": [],
   "source": [
    "import glob"
   ]
  },
  {
   "cell_type": "code",
   "execution_count": 12,
   "id": "5b8f4ba9-98db-4dca-962b-bc6ba9ff56af",
   "metadata": {},
   "outputs": [
    {
     "data": {
      "text/html": [
       "<div>\n",
       "<style scoped>\n",
       "    .dataframe tbody tr th:only-of-type {\n",
       "        vertical-align: middle;\n",
       "    }\n",
       "\n",
       "    .dataframe tbody tr th {\n",
       "        vertical-align: top;\n",
       "    }\n",
       "\n",
       "    .dataframe thead th {\n",
       "        text-align: right;\n",
       "    }\n",
       "</style>\n",
       "<table border=\"1\" class=\"dataframe\">\n",
       "  <thead>\n",
       "    <tr style=\"text-align: right;\">\n",
       "      <th></th>\n",
       "      <th>tweets</th>\n",
       "      <th>start_of_mg</th>\n",
       "    </tr>\n",
       "  </thead>\n",
       "  <tbody>\n",
       "    <tr>\n",
       "      <th>0</th>\n",
       "      <td>[As Vaccines Roll Out, Will Risky Behavior Inc...</td>\n",
       "      <td>20</td>\n",
       "    </tr>\n",
       "    <tr>\n",
       "      <th>1</th>\n",
       "      <td>[India stands on threshold of vaccinating each...</td>\n",
       "      <td>5</td>\n",
       "    </tr>\n",
       "    <tr>\n",
       "      <th>2</th>\n",
       "      <td>[NOW THEY ARE MAKING EXCUSE hasn't been in pol...</td>\n",
       "      <td>5</td>\n",
       "    </tr>\n",
       "    <tr>\n",
       "      <th>3</th>\n",
       "      <td>[\"Vaccination is the most important strategy t...</td>\n",
       "      <td>5</td>\n",
       "    </tr>\n",
       "    <tr>\n",
       "      <th>4</th>\n",
       "      <td>[Toronto’s COVID-19 Bike Lane Expansion Booste...</td>\n",
       "      <td>20</td>\n",
       "    </tr>\n",
       "    <tr>\n",
       "      <th>...</th>\n",
       "      <td>...</td>\n",
       "      <td>...</td>\n",
       "    </tr>\n",
       "    <tr>\n",
       "      <th>245</th>\n",
       "      <td>[Australia news live: NSW police won't proceed...</td>\n",
       "      <td>10</td>\n",
       "    </tr>\n",
       "    <tr>\n",
       "      <th>246</th>\n",
       "      <td>[Why is the #NHS putting patients at risk from...</td>\n",
       "      <td>5</td>\n",
       "    </tr>\n",
       "    <tr>\n",
       "      <th>247</th>\n",
       "      <td>[Who cares what this criminal says. He is a cr...</td>\n",
       "      <td>20</td>\n",
       "    </tr>\n",
       "    <tr>\n",
       "      <th>248</th>\n",
       "      <td>[MrsB and I have both had covid and I’ve been ...</td>\n",
       "      <td>5</td>\n",
       "    </tr>\n",
       "    <tr>\n",
       "      <th>249</th>\n",
       "      <td>[#SouthKorea and the #US will conduct its spri...</td>\n",
       "      <td>10</td>\n",
       "    </tr>\n",
       "  </tbody>\n",
       "</table>\n",
       "<p>250 rows × 2 columns</p>\n",
       "</div>"
      ],
      "text/plain": [
       "                                                tweets  start_of_mg\n",
       "0    [As Vaccines Roll Out, Will Risky Behavior Inc...           20\n",
       "1    [India stands on threshold of vaccinating each...            5\n",
       "2    [NOW THEY ARE MAKING EXCUSE hasn't been in pol...            5\n",
       "3    [\"Vaccination is the most important strategy t...            5\n",
       "4    [Toronto’s COVID-19 Bike Lane Expansion Booste...           20\n",
       "..                                                 ...          ...\n",
       "245  [Australia news live: NSW police won't proceed...           10\n",
       "246  [Why is the #NHS putting patients at risk from...            5\n",
       "247  [Who cares what this criminal says. He is a cr...           20\n",
       "248  [MrsB and I have both had covid and I’ve been ...            5\n",
       "249  [#SouthKorea and the #US will conduct its spri...           10\n",
       "\n",
       "[250 rows x 2 columns]"
      ]
     },
     "execution_count": 12,
     "metadata": {},
     "output_type": "execute_result"
    }
   ],
   "source": [
    "# pd.read_json(file,orient=\"records\")"
   ]
  },
  {
   "cell_type": "code",
   "execution_count": 16,
   "id": "661f12e5-db46-4738-b7a6-3cc992817728",
   "metadata": {},
   "outputs": [
    {
     "name": "stdout",
     "output_type": "stream",
     "text": [
      "/proj/semafor/ancil/projects/hk3/notebooks/tmp_cp4_files/test_climate_human-gpt2_25.json 25    250\n",
      "Name: tweets, dtype: int64\n",
      "/proj/semafor/ancil/projects/hk3/notebooks/tmp_cp4_files/test_climate_human-EleutherAI-gpt-neo-1.3B_25.json 25    250\n",
      "Name: tweets, dtype: int64\n",
      "/proj/semafor/ancil/projects/hk3/notebooks/tmp_cp4_files/test_climate_human-gpt2-large_25.json 25    250\n",
      "Name: tweets, dtype: int64\n",
      "/proj/semafor/ancil/projects/hk3/notebooks/tmp_cp4_files/test_climate_human-gpt2-medium_25.json 25    250\n",
      "Name: tweets, dtype: int64\n",
      "/proj/semafor/ancil/projects/hk3/notebooks/tmp_cp4_files/test_covid_human-EleutherAI-gpt-neo-1.3B_25.json 25    250\n",
      "Name: tweets, dtype: int64\n",
      "/proj/semafor/ancil/projects/hk3/notebooks/tmp_cp4_files/test_covid_human-gpt2_25.json 25    250\n",
      "Name: tweets, dtype: int64\n",
      "/proj/semafor/ancil/projects/hk3/notebooks/tmp_cp4_files/test_covid_human-gpt2-large_25.json 25    250\n",
      "Name: tweets, dtype: int64\n",
      "/proj/semafor/ancil/projects/hk3/notebooks/tmp_cp4_files/test_covid_human-gpt2-medium_25.json 25    250\n",
      "Name: tweets, dtype: int64\n",
      "/proj/semafor/ancil/projects/hk3/notebooks/tmp_cp4_files/test_vaccine_human-EleutherAI-gpt-neo-1.3B_25.json 25    250\n",
      "Name: tweets, dtype: int64\n",
      "/proj/semafor/ancil/projects/hk3/notebooks/tmp_cp4_files/test_vaccine_human-gpt2_25.json 25    250\n",
      "Name: tweets, dtype: int64\n",
      "/proj/semafor/ancil/projects/hk3/notebooks/tmp_cp4_files/test_vaccine_human-gpt2-large_25.json 25    250\n",
      "Name: tweets, dtype: int64\n",
      "/proj/semafor/ancil/projects/hk3/notebooks/tmp_cp4_files/test_vaccine_human-gpt2-medium_25.json 25    250\n",
      "Name: tweets, dtype: int64\n",
      "/proj/semafor/ancil/projects/hk3/notebooks/tmp_cp4_files/train_climate_human-EleutherAI-gpt-neo-1.3B_25.json 25    250\n",
      "Name: tweets, dtype: int64\n",
      "/proj/semafor/ancil/projects/hk3/notebooks/tmp_cp4_files/train_climate_human-gpt2_25.json 25    250\n",
      "Name: tweets, dtype: int64\n",
      "/proj/semafor/ancil/projects/hk3/notebooks/tmp_cp4_files/train_climate_human-gpt2-large_25.json 25    250\n",
      "Name: tweets, dtype: int64\n",
      "/proj/semafor/ancil/projects/hk3/notebooks/tmp_cp4_files/train_climate_human-gpt2-medium_25.json 25    250\n",
      "Name: tweets, dtype: int64\n",
      "/proj/semafor/ancil/projects/hk3/notebooks/tmp_cp4_files/train_covid_human-EleutherAI-gpt-neo-1.3B_25.json 25    250\n",
      "Name: tweets, dtype: int64\n",
      "/proj/semafor/ancil/projects/hk3/notebooks/tmp_cp4_files/train_covid_human-gpt2_25.json 25    250\n",
      "Name: tweets, dtype: int64\n",
      "/proj/semafor/ancil/projects/hk3/notebooks/tmp_cp4_files/train_covid_human-gpt2-large_25.json 25    250\n",
      "Name: tweets, dtype: int64\n",
      "/proj/semafor/ancil/projects/hk3/notebooks/tmp_cp4_files/train_covid_human-gpt2-medium_25.json 25    250\n",
      "Name: tweets, dtype: int64\n",
      "/proj/semafor/ancil/projects/hk3/notebooks/tmp_cp4_files/train_vaccine_human-EleutherAI-gpt-neo-1.3B_25.json 25    250\n",
      "Name: tweets, dtype: int64\n",
      "/proj/semafor/ancil/projects/hk3/notebooks/tmp_cp4_files/train_vaccine_human-gpt2_25.json 25    250\n",
      "Name: tweets, dtype: int64\n",
      "/proj/semafor/ancil/projects/hk3/notebooks/tmp_cp4_files/train_vaccine_human-gpt2-large_25.json 25    250\n",
      "Name: tweets, dtype: int64\n",
      "/proj/semafor/ancil/projects/hk3/notebooks/tmp_cp4_files/train_vaccine_human-gpt2-medium_25.json 25    250\n",
      "Name: tweets, dtype: int64\n",
      "/proj/semafor/ancil/projects/hk3/notebooks/tmp_cp4_files/test_climate_human_25.json 25    200\n",
      "Name: tweets, dtype: int64\n",
      "/proj/semafor/ancil/projects/hk3/notebooks/tmp_cp4_files/test_covid_human_25.json 25    200\n",
      "Name: tweets, dtype: int64\n",
      "/proj/semafor/ancil/projects/hk3/notebooks/tmp_cp4_files/test_vaccine_human_25.json 25    200\n",
      "Name: tweets, dtype: int64\n",
      "/proj/semafor/ancil/projects/hk3/notebooks/tmp_cp4_files/train_climate_human_25.json 25    200\n",
      "Name: tweets, dtype: int64\n",
      "/proj/semafor/ancil/projects/hk3/notebooks/tmp_cp4_files/train_covid_human_25.json 25    200\n",
      "Name: tweets, dtype: int64\n",
      "/proj/semafor/ancil/projects/hk3/notebooks/tmp_cp4_files/train_vaccine_human_25.json 25    200\n",
      "Name: tweets, dtype: int64\n"
     ]
    }
   ],
   "source": [
    "for file in glob.glob(\"/proj/semafor/ancil/projects/hk3/notebooks/tmp_cp4_files/*25.json\"):\n",
    "    temp  =pd.read_json(file,orient=\"records\")\n",
    "    print(file, temp.tweets.apply(len).value_counts())\n",
    "    # if \"start_of_mg\" in temp.columns:\n",
    "    #     print(file, temp.start_of_mg.value_counts())\n"
   ]
  }
 ],
 "metadata": {
  "kernelspec": {
   "display_name": "semafor_nlg",
   "language": "python",
   "name": "semafor_nlg"
  },
  "language_info": {
   "codemirror_mode": {
    "name": "ipython",
    "version": 3
   },
   "file_extension": ".py",
   "mimetype": "text/x-python",
   "name": "python",
   "nbconvert_exporter": "python",
   "pygments_lexer": "ipython3",
   "version": "3.8.11"
  }
 },
 "nbformat": 4,
 "nbformat_minor": 5
}
